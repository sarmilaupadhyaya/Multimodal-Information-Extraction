{
 "cells": [
  {
   "cell_type": "code",
   "execution_count": 3,
   "id": "ab104907",
   "metadata": {},
   "outputs": [],
   "source": [
    "#imports\n",
    "import os\n",
    "import glob\n",
    "import json\n",
    "import random\n",
    "from pathlib import Path\n",
    "from difflib import SequenceMatcher\n",
    "\n",
    "\n",
    "os.environ[\"CUBLAS_WORKSPACE_CONFIG\"] = \":4096:8\" \n",
    "import torch \n",
    "import numpy as np\n",
    "import random\n",
    "seed = 7\n",
    "torch.manual_seed(seed)\n",
    "np.random.seed(seed)\n",
    "random.seed(seed)\n",
    "torch.use_deterministic_algorithms(True)\n",
    "\n",
    "import cv2\n",
    "import pandas as pd\n",
    "import numpy as np\n",
    "from PIL import Image\n",
    "from tqdm import tqdm\n",
    "from IPython.display import display\n",
    "import matplotlib\n",
    "from PIL import Image\n",
    "from matplotlib import pyplot, patches\n",
    "import transformers\n",
    "from transformers import Trainer\n",
    "from transformers import TrainingArguments,LayoutLMv2Model, LayoutLMv2PreTrainedModel\n",
    "\n",
    "import torch.nn as nn\n",
    "\n",
    "from torch.nn import BCEWithLogitsLoss, CrossEntropyLoss, MSELoss\n",
    "from dataclasses import dataclass\n",
    "from dataclasses import fields\n",
    "from transformers import  LayoutLMv2Processor, LayoutXLMTokenizer, LayoutXLMProcessor\n",
    "from datasets import Features, Sequence, ClassLabel, Value, Array2D, Array3D\n",
    "\n",
    "from datasets import load_dataset,Dataset\n",
    "import spacy\n",
    "nlp = spacy.load(\"en_core_web_sm\")"
   ]
  },
  {
   "cell_type": "code",
   "execution_count": 23,
   "id": "31262266",
   "metadata": {},
   "outputs": [],
   "source": [
    "\n",
    "\n",
    "\n",
    "#datasets = load_dataset(\"darentang/sroie\",cache_dir=None)\n",
    "#datasets = load_dataset(\"nielsr/funsd\",cache_dir=None)\n",
    "#datasets = load_dataset(\"nielsr/funsd-layoutlmv3\")\n",
    "train_dataset = Dataset.from_file(\"/home/user/.cache/huggingface/datasets/azes_ner_dataset_butler/infoex-staging-azes-property/ner-v407/0.0.0/azes_ner_dataset_butler-train.arrow\")\n",
    "test_dataset = Dataset.from_file(\"/home/user/.cache/huggingface/datasets/azes_ner_dataset_butler/infoex-staging-azes-property/ner-v407/0.0.0/azes_ner_dataset_butler-test.arrow\")\n",
    "##creating a dataloader\n",
    "# train_dataloader = DataLoader(train_dataset, batch_size=4, shuffle=True)\n",
    "# test_dataloader = DataLoader(test_dataset, batch_size=2)\n"
   ]
  },
  {
   "cell_type": "code",
   "execution_count": 10,
   "id": "f3741ee1",
   "metadata": {},
   "outputs": [
    {
     "name": "stdout",
     "output_type": "stream",
     "text": [
      "524477\n",
      "{0, 2, 3, 4, 5, 6, 7, 8, 9, 10, 11, 12, 13, 14, 16, 17, 18, 19, 20, 21}\n"
     ]
    },
    {
     "data": {
      "text/plain": [
       "{'O': 0,\n",
       " '-': 1,\n",
       " 'B-18': 2,\n",
       " 'I-18': 3,\n",
       " 'E-18': 4,\n",
       " 'S-18': 5,\n",
       " 'B-7': 6,\n",
       " 'I-7': 7,\n",
       " 'E-7': 8,\n",
       " 'S-7': 9,\n",
       " 'B-5': 10,\n",
       " 'I-5': 11,\n",
       " 'E-5': 12,\n",
       " 'S-5': 13,\n",
       " 'B-6': 14,\n",
       " 'I-6': 15,\n",
       " 'E-6': 16,\n",
       " 'S-6': 17,\n",
       " 'B-9': 18,\n",
       " 'I-9': 19,\n",
       " 'E-9': 20,\n",
       " 'S-9': 21}"
      ]
     },
     "execution_count": 10,
     "metadata": {},
     "output_type": "execute_result"
    }
   ],
   "source": [
    "labelss = [xx for x in train_dataset[\"labels\"] for xx in x]\n",
    "print(len(labelss))\n",
    "print(set(labelss))\n",
    "labels = train_dataset.features[\"labels\"].feature.names\n",
    "id2label = {v: k for v, k in enumerate(labels)}\n",
    "label2id = {k: v for v, k in enumerate(labels)}\n",
    "label2id\n"
   ]
  },
  {
   "cell_type": "code",
   "execution_count": 8,
   "id": "f74f4fac",
   "metadata": {},
   "outputs": [
    {
     "name": "stdout",
     "output_type": "stream",
     "text": [
      "Defaulting to user installation because normal site-packages is not writeable\n",
      "Looking in indexes: https://pypi.org/simple, https://pypi.ngc.nvidia.com\n",
      "\u001b[33mWARNING: Retrying (Retry(total=4, connect=None, read=None, redirect=None, status=None)) after connection broken by 'ProxyError('Cannot connect to proxy.', OSError('Tunnel connection failed: 403 Forbidden'))': /seaborn/\u001b[0m\n",
      "\u001b[33mWARNING: Retrying (Retry(total=3, connect=None, read=None, redirect=None, status=None)) after connection broken by 'ProxyError('Cannot connect to proxy.', OSError('Tunnel connection failed: 403 Forbidden'))': /seaborn/\u001b[0m\n",
      "\u001b[33mWARNING: Retrying (Retry(total=2, connect=None, read=None, redirect=None, status=None)) after connection broken by 'ProxyError('Cannot connect to proxy.', OSError('Tunnel connection failed: 403 Forbidden'))': /seaborn/\u001b[0m\n",
      "\u001b[33mWARNING: Retrying (Retry(total=1, connect=None, read=None, redirect=None, status=None)) after connection broken by 'ProxyError('Cannot connect to proxy.', OSError('Tunnel connection failed: 403 Forbidden'))': /seaborn/\u001b[0m\n",
      "\u001b[33mWARNING: Retrying (Retry(total=0, connect=None, read=None, redirect=None, status=None)) after connection broken by 'ProxyError('Cannot connect to proxy.', OSError('Tunnel connection failed: 403 Forbidden'))': /seaborn/\u001b[0m\n",
      "Collecting seaborn\n",
      "  Downloading seaborn-0.11.2-py3-none-any.whl (292 kB)\n",
      "\u001b[K     |████████████████████████████████| 292 kB 1.6 MB/s eta 0:00:01\n",
      "\u001b[?25hRequirement already satisfied: pandas>=0.23 in /opt/conda/lib/python3.8/site-packages (from seaborn) (1.3.4)\n",
      "Requirement already satisfied: numpy>=1.15 in /opt/conda/lib/python3.8/site-packages (from seaborn) (1.21.4)\n",
      "Requirement already satisfied: scipy>=1.0 in /opt/conda/lib/python3.8/site-packages (from seaborn) (1.6.3)\n",
      "Requirement already satisfied: matplotlib>=2.2 in /opt/conda/lib/python3.8/site-packages (from seaborn) (3.5.0)\n",
      "Requirement already satisfied: packaging>=20.0 in /opt/conda/lib/python3.8/site-packages (from matplotlib>=2.2->seaborn) (20.9)\n",
      "Requirement already satisfied: setuptools-scm>=4 in /opt/conda/lib/python3.8/site-packages (from matplotlib>=2.2->seaborn) (6.3.2)\n",
      "Requirement already satisfied: pillow>=6.2.0 in /opt/conda/lib/python3.8/site-packages (from matplotlib>=2.2->seaborn) (8.2.0)\n",
      "Requirement already satisfied: pyparsing>=2.2.1 in /opt/conda/lib/python3.8/site-packages (from matplotlib>=2.2->seaborn) (3.0.6)\n",
      "Requirement already satisfied: fonttools>=4.22.0 in /opt/conda/lib/python3.8/site-packages (from matplotlib>=2.2->seaborn) (4.28.2)\n",
      "Requirement already satisfied: kiwisolver>=1.0.1 in /opt/conda/lib/python3.8/site-packages (from matplotlib>=2.2->seaborn) (1.3.2)\n",
      "Requirement already satisfied: python-dateutil>=2.7 in /opt/conda/lib/python3.8/site-packages (from matplotlib>=2.2->seaborn) (2.8.2)\n",
      "Requirement already satisfied: cycler>=0.10 in /opt/conda/lib/python3.8/site-packages (from matplotlib>=2.2->seaborn) (0.11.0)\n",
      "Requirement already satisfied: pytz>=2017.3 in /opt/conda/lib/python3.8/site-packages (from pandas>=0.23->seaborn) (2021.3)\n",
      "Requirement already satisfied: six>=1.5 in /opt/conda/lib/python3.8/site-packages (from python-dateutil>=2.7->matplotlib>=2.2->seaborn) (1.16.0)\n",
      "Requirement already satisfied: setuptools in /opt/conda/lib/python3.8/site-packages (from setuptools-scm>=4->matplotlib>=2.2->seaborn) (59.4.0)\n",
      "Requirement already satisfied: tomli>=1.0.0 in /opt/conda/lib/python3.8/site-packages (from setuptools-scm>=4->matplotlib>=2.2->seaborn) (1.2.2)\n",
      "Installing collected packages: seaborn\n",
      "Successfully installed seaborn-0.11.2\n"
     ]
    }
   ],
   "source": [
    "!pip install seaborn"
   ]
  },
  {
   "cell_type": "code",
   "execution_count": 15,
   "id": "638f06b4",
   "metadata": {},
   "outputs": [
    {
     "data": {
      "text/plain": [
       "{0: 'O',\n",
       " 1: '-',\n",
       " 2: 'B-18',\n",
       " 3: 'I-18',\n",
       " 4: 'E-18',\n",
       " 5: 'S-18',\n",
       " 6: 'B-7',\n",
       " 7: 'I-7',\n",
       " 8: 'E-7',\n",
       " 9: 'S-7',\n",
       " 10: 'B-5',\n",
       " 11: 'I-5',\n",
       " 12: 'E-5',\n",
       " 13: 'S-5',\n",
       " 14: 'B-6',\n",
       " 15: 'I-6',\n",
       " 16: 'E-6',\n",
       " 17: 'S-6',\n",
       " 18: 'B-9',\n",
       " 19: 'I-9',\n",
       " 20: 'E-9',\n",
       " 21: 'S-9'}"
      ]
     },
     "execution_count": 15,
     "metadata": {},
     "output_type": "execute_result"
    }
   ],
   "source": [
    "id2label"
   ]
  },
  {
   "cell_type": "code",
   "execution_count": 24,
   "id": "9fabb881",
   "metadata": {},
   "outputs": [
    {
     "name": "stdout",
     "output_type": "stream",
     "text": [
      "20\n"
     ]
    },
    {
     "data": {
      "image/png": "[encoded data removed]",
      "text/plain": [
       "<Figure size 576x288 with 1 Axes>"
      ]
     },
     "metadata": {
      "needs_background": "light"
     },
     "output_type": "display_data"
    },
    {
     "data": {
      "text/plain": [
       "<Figure size 432x288 with 0 Axes>"
      ]
     },
     "metadata": {},
     "output_type": "display_data"
    }
   ],
   "source": [
    "from collections import Counter\n",
    "X = Counter(x for xs in train_dataset[\"labels\"] for x in xs)\n",
    "import matplotlib.pyplot as plt\n",
    "import seaborn as sns\n",
    "plt.figure(figsize=(8,4), tight_layout=True)\n",
    "id2label = {k:\"tag_+\" +str(k) if v!=\"O\"  else \"O\" for k,v in id2label.items() }\n",
    "dictionary_ = {id2label[i]:v for i,v in enumerate(X)}\n",
    "colors = sns.color_palette('pastel')\n",
    "length = len(dictionary_)\n",
    "print(length)\n",
    "plt.bar(dictionary_.keys(), dictionary_.values(), color=colors[:length])\n",
    "plt.xlabel('Tags')\n",
    "plt.ylabel('Distribution of tags')\n",
    "plt.title('Tag distribution')\n",
    "plt.show()\n",
    "plt.savefig(\"spanish_dataset.pdf\", dpi=300)"
   ]
  },
  {
   "cell_type": "code",
   "execution_count": 4,
   "id": "813e16e5",
   "metadata": {},
   "outputs": [
    {
     "name": "stdout",
     "output_type": "stream",
     "text": [
      "average sentene length is 150.15087317492126\n"
     ]
    }
   ],
   "source": [
    "\n",
    "def average_sentence_length(dataset):\n",
    "    \n",
    "    total = len(dataset[\"words\"])\n",
    "    length  = [len(sentence) for sentence in dataset[\"words\"] ]\n",
    "    return sum(length)/total\n",
    "    \n",
    "print(\"average sentene length is\", str(average_sentence_length(train_dataset)))\n",
    "\n"
   ]
  },
  {
   "cell_type": "code",
   "execution_count": 16,
   "id": "24874adc",
   "metadata": {},
   "outputs": [
    {
     "data": {
      "text/plain": [
       "Dataset({\n",
       "    features: ['guid', 'words', 'labels', 'boxes', 'actual_bboxes', 'file_name', 'page_size', 'image'],\n",
       "    num_rows: 642\n",
       "})"
      ]
     },
     "execution_count": 16,
     "metadata": {},
     "output_type": "execute_result"
    }
   ],
   "source": [
    "test_dataset"
   ]
  },
  {
   "cell_type": "code",
   "execution_count": 17,
   "id": "d5abbd92",
   "metadata": {},
   "outputs": [
    {
     "name": "stdout",
     "output_type": "stream",
     "text": [
      "total training documents 3493\n",
      "number of document with no tags 3165\n",
      "number of document with atleast 1 tags 328\n",
      "total test documents 642\n",
      "number of document with no tags 557\n",
      "number of document with atleast 1 tags 85\n"
     ]
    }
   ],
   "source": [
    "print(\"total training documents\", len(train_dataset))\n",
    "count = 0\n",
    "count_t = 0\n",
    "indexes_all_o = []\n",
    "for i,x in enumerate(train_dataset[\"labels\"]):\n",
    "    if all(v == 0 for v in x):\n",
    "        count += 1\n",
    "        indexes_all_o.append(i)\n",
    "    if any(v != 0 for v in x):\n",
    "        count_t += 1\n",
    "indexes_to_drop = indexes_all_o[:count_t]  \n",
    "\n",
    "print(\"number of document with no tags\", count)\n",
    "print(\"number of document with atleast 1 tags\", count_t)\n",
    "\n",
    "\n",
    "print(\"total test documents\", len(test_dataset))\n",
    "count = 0\n",
    "count_t = 0\n",
    "for x in test_dataset[\"labels\"]:\n",
    "    if all(v == 0 for v in x):\n",
    "        count += 1\n",
    "    if any(v != 0 for v in x):\n",
    "        count_t += 1\n",
    "        \n",
    "print(\"number of document with no tags\", count)\n",
    "print(\"number of document with atleast 1 tags\", count_t)"
   ]
  },
  {
   "cell_type": "code",
   "execution_count": 18,
   "id": "705b265a",
   "metadata": {},
   "outputs": [
    {
     "name": "stdout",
     "output_type": "stream",
     "text": [
      "524477\n",
      "{0, 2, 3, 4, 5, 6, 7, 8, 9, 10, 11, 12, 13, 14, 16, 17, 18, 19, 20, 21}\n"
     ]
    },
    {
     "data": {
      "text/plain": [
       "{'O': 0,\n",
       " '-': 1,\n",
       " 'B-18': 2,\n",
       " 'I-18': 3,\n",
       " 'E-18': 4,\n",
       " 'S-18': 5,\n",
       " 'B-7': 6,\n",
       " 'I-7': 7,\n",
       " 'E-7': 8,\n",
       " 'S-7': 9,\n",
       " 'B-5': 10,\n",
       " 'I-5': 11,\n",
       " 'E-5': 12,\n",
       " 'S-5': 13,\n",
       " 'B-6': 14,\n",
       " 'I-6': 15,\n",
       " 'E-6': 16,\n",
       " 'S-6': 17,\n",
       " 'B-9': 18,\n",
       " 'I-9': 19,\n",
       " 'E-9': 20,\n",
       " 'S-9': 21}"
      ]
     },
     "execution_count": 18,
     "metadata": {},
     "output_type": "execute_result"
    }
   ],
   "source": [
    "labelss = [xx for x in train_dataset[\"labels\"] for xx in x]\n",
    "print(len(labelss))\n",
    "print(set(labelss))\n",
    "labels = train_dataset.features[\"labels\"].feature.names\n",
    "id2label = {v: k for v, k in enumerate(labels)}\n",
    "label2id = {k: v for v, k in enumerate(labels)}\n",
    "label2id\n"
   ]
  },
  {
   "cell_type": "code",
   "execution_count": 20,
   "id": "c83a8d69",
   "metadata": {},
   "outputs": [
    {
     "ename": "KeyboardInterrupt",
     "evalue": "",
     "output_type": "error",
     "traceback": [
      "\u001b[0;31m---------------------------------------------------------------------------\u001b[0m",
      "\u001b[0;31mKeyboardInterrupt\u001b[0m                         Traceback (most recent call last)",
      "\u001b[0;32m/tmp/ipykernel_13914/745461180.py\u001b[0m in \u001b[0;36m<module>\u001b[0;34m\u001b[0m\n\u001b[1;32m     19\u001b[0m             \u001b[0;32mreturn\u001b[0m \u001b[0mexamples\u001b[0m\u001b[0;34m\u001b[0m\u001b[0;34m\u001b[0m\u001b[0m\n\u001b[1;32m     20\u001b[0m \u001b[0;34m\u001b[0m\u001b[0m\n\u001b[0;32m---> 21\u001b[0;31m \u001b[0mnew\u001b[0m \u001b[0;34m=\u001b[0m \u001b[0mlist\u001b[0m\u001b[0;34m(\u001b[0m\u001b[0mmap\u001b[0m\u001b[0;34m(\u001b[0m\u001b[0mfilter_dataset\u001b[0m\u001b[0;34m,\u001b[0m \u001b[0mtrain_dataset\u001b[0m\u001b[0;34m)\u001b[0m\u001b[0;34m)\u001b[0m\u001b[0;34m\u001b[0m\u001b[0;34m\u001b[0m\u001b[0m\n\u001b[0m\u001b[1;32m     22\u001b[0m \u001b[0;31m# test_dataset = test_dataset.map(preprocess_data, batched=True, remove_columns=test_dataset.column_names,\u001b[0m\u001b[0;34m\u001b[0m\u001b[0;34m\u001b[0m\u001b[0;34m\u001b[0m\u001b[0m\n\u001b[1;32m     23\u001b[0m \u001b[0;31m#                                       features=features)\u001b[0m\u001b[0;34m\u001b[0m\u001b[0;34m\u001b[0m\u001b[0;34m\u001b[0m\u001b[0m\n",
      "\u001b[0;32m~/.local/lib/python3.8/site-packages/datasets/arrow_dataset.py\u001b[0m in \u001b[0;36m_iter\u001b[0;34m(self, decoded)\u001b[0m\n\u001b[1;32m   1496\u001b[0m         \"\"\"\n\u001b[1;32m   1497\u001b[0m         \u001b[0;32mfor\u001b[0m \u001b[0mindex\u001b[0m \u001b[0;32min\u001b[0m \u001b[0mrange\u001b[0m\u001b[0;34m(\u001b[0m\u001b[0mself\u001b[0m\u001b[0;34m.\u001b[0m\u001b[0mnum_rows\u001b[0m\u001b[0;34m)\u001b[0m\u001b[0;34m:\u001b[0m\u001b[0;34m\u001b[0m\u001b[0;34m\u001b[0m\u001b[0m\n\u001b[0;32m-> 1498\u001b[0;31m             yield self._getitem(\n\u001b[0m\u001b[1;32m   1499\u001b[0m                 \u001b[0mindex\u001b[0m\u001b[0;34m,\u001b[0m\u001b[0;34m\u001b[0m\u001b[0;34m\u001b[0m\u001b[0m\n\u001b[1;32m   1500\u001b[0m                 \u001b[0mdecoded\u001b[0m\u001b[0;34m=\u001b[0m\u001b[0mdecoded\u001b[0m\u001b[0;34m,\u001b[0m\u001b[0;34m\u001b[0m\u001b[0;34m\u001b[0m\u001b[0m\n",
      "\u001b[0;32m~/.local/lib/python3.8/site-packages/datasets/arrow_dataset.py\u001b[0m in \u001b[0;36m_getitem\u001b[0;34m(self, key, decoded, **kwargs)\u001b[0m\n\u001b[1;32m   1748\u001b[0m         \u001b[0mformatter\u001b[0m \u001b[0;34m=\u001b[0m \u001b[0mget_formatter\u001b[0m\u001b[0;34m(\u001b[0m\u001b[0mformat_type\u001b[0m\u001b[0;34m,\u001b[0m \u001b[0mfeatures\u001b[0m\u001b[0;34m=\u001b[0m\u001b[0mself\u001b[0m\u001b[0;34m.\u001b[0m\u001b[0mfeatures\u001b[0m\u001b[0;34m,\u001b[0m \u001b[0mdecoded\u001b[0m\u001b[0;34m=\u001b[0m\u001b[0mdecoded\u001b[0m\u001b[0;34m,\u001b[0m \u001b[0;34m**\u001b[0m\u001b[0mformat_kwargs\u001b[0m\u001b[0;34m)\u001b[0m\u001b[0;34m\u001b[0m\u001b[0;34m\u001b[0m\u001b[0m\n\u001b[1;32m   1749\u001b[0m         \u001b[0mpa_subtable\u001b[0m \u001b[0;34m=\u001b[0m \u001b[0mquery_table\u001b[0m\u001b[0;34m(\u001b[0m\u001b[0mself\u001b[0m\u001b[0;34m.\u001b[0m\u001b[0m_data\u001b[0m\u001b[0;34m,\u001b[0m \u001b[0mkey\u001b[0m\u001b[0;34m,\u001b[0m \u001b[0mindices\u001b[0m\u001b[0;34m=\u001b[0m\u001b[0mself\u001b[0m\u001b[0;34m.\u001b[0m\u001b[0m_indices\u001b[0m \u001b[0;32mif\u001b[0m \u001b[0mself\u001b[0m\u001b[0;34m.\u001b[0m\u001b[0m_indices\u001b[0m \u001b[0;32mis\u001b[0m \u001b[0;32mnot\u001b[0m \u001b[0;32mNone\u001b[0m \u001b[0;32melse\u001b[0m \u001b[0;32mNone\u001b[0m\u001b[0;34m)\u001b[0m\u001b[0;34m\u001b[0m\u001b[0;34m\u001b[0m\u001b[0m\n\u001b[0;32m-> 1750\u001b[0;31m         formatted_output = format_table(\n\u001b[0m\u001b[1;32m   1751\u001b[0m             \u001b[0mpa_subtable\u001b[0m\u001b[0;34m,\u001b[0m \u001b[0mkey\u001b[0m\u001b[0;34m,\u001b[0m \u001b[0mformatter\u001b[0m\u001b[0;34m=\u001b[0m\u001b[0mformatter\u001b[0m\u001b[0;34m,\u001b[0m \u001b[0mformat_columns\u001b[0m\u001b[0;34m=\u001b[0m\u001b[0mformat_columns\u001b[0m\u001b[0;34m,\u001b[0m \u001b[0moutput_all_columns\u001b[0m\u001b[0;34m=\u001b[0m\u001b[0moutput_all_columns\u001b[0m\u001b[0;34m\u001b[0m\u001b[0;34m\u001b[0m\u001b[0m\n\u001b[1;32m   1752\u001b[0m         )\n",
      "\u001b[0;32m~/.local/lib/python3.8/site-packages/datasets/formatting/formatting.py\u001b[0m in \u001b[0;36mformat_table\u001b[0;34m(table, key, formatter, format_columns, output_all_columns)\u001b[0m\n\u001b[1;32m    530\u001b[0m     \u001b[0mpython_formatter\u001b[0m \u001b[0;34m=\u001b[0m \u001b[0mPythonFormatter\u001b[0m\u001b[0;34m(\u001b[0m\u001b[0mfeatures\u001b[0m\u001b[0;34m=\u001b[0m\u001b[0;32mNone\u001b[0m\u001b[0;34m)\u001b[0m\u001b[0;34m\u001b[0m\u001b[0;34m\u001b[0m\u001b[0m\n\u001b[1;32m    531\u001b[0m     \u001b[0;32mif\u001b[0m \u001b[0mformat_columns\u001b[0m \u001b[0;32mis\u001b[0m \u001b[0;32mNone\u001b[0m\u001b[0;34m:\u001b[0m\u001b[0;34m\u001b[0m\u001b[0;34m\u001b[0m\u001b[0m\n\u001b[0;32m--> 532\u001b[0;31m         \u001b[0;32mreturn\u001b[0m \u001b[0mformatter\u001b[0m\u001b[0;34m(\u001b[0m\u001b[0mpa_table\u001b[0m\u001b[0;34m,\u001b[0m \u001b[0mquery_type\u001b[0m\u001b[0;34m=\u001b[0m\u001b[0mquery_type\u001b[0m\u001b[0;34m)\u001b[0m\u001b[0;34m\u001b[0m\u001b[0;34m\u001b[0m\u001b[0m\n\u001b[0m\u001b[1;32m    533\u001b[0m     \u001b[0;32melif\u001b[0m \u001b[0mquery_type\u001b[0m \u001b[0;34m==\u001b[0m \u001b[0;34m\"column\"\u001b[0m\u001b[0;34m:\u001b[0m\u001b[0;34m\u001b[0m\u001b[0;34m\u001b[0m\u001b[0m\n\u001b[1;32m    534\u001b[0m         \u001b[0;32mif\u001b[0m \u001b[0mkey\u001b[0m \u001b[0;32min\u001b[0m \u001b[0mformat_columns\u001b[0m\u001b[0;34m:\u001b[0m\u001b[0;34m\u001b[0m\u001b[0;34m\u001b[0m\u001b[0m\n",
      "\u001b[0;32m~/.local/lib/python3.8/site-packages/datasets/formatting/formatting.py\u001b[0m in \u001b[0;36m__call__\u001b[0;34m(self, pa_table, query_type)\u001b[0m\n\u001b[1;32m    279\u001b[0m     \u001b[0;32mdef\u001b[0m \u001b[0m__call__\u001b[0m\u001b[0;34m(\u001b[0m\u001b[0mself\u001b[0m\u001b[0;34m,\u001b[0m \u001b[0mpa_table\u001b[0m\u001b[0;34m:\u001b[0m \u001b[0mpa\u001b[0m\u001b[0;34m.\u001b[0m\u001b[0mTable\u001b[0m\u001b[0;34m,\u001b[0m \u001b[0mquery_type\u001b[0m\u001b[0;34m:\u001b[0m \u001b[0mstr\u001b[0m\u001b[0;34m)\u001b[0m \u001b[0;34m->\u001b[0m \u001b[0mUnion\u001b[0m\u001b[0;34m[\u001b[0m\u001b[0mRowFormat\u001b[0m\u001b[0;34m,\u001b[0m \u001b[0mColumnFormat\u001b[0m\u001b[0;34m,\u001b[0m \u001b[0mBatchFormat\u001b[0m\u001b[0;34m]\u001b[0m\u001b[0;34m:\u001b[0m\u001b[0;34m\u001b[0m\u001b[0;34m\u001b[0m\u001b[0m\n\u001b[1;32m    280\u001b[0m         \u001b[0;32mif\u001b[0m \u001b[0mquery_type\u001b[0m \u001b[0;34m==\u001b[0m \u001b[0;34m\"row\"\u001b[0m\u001b[0;34m:\u001b[0m\u001b[0;34m\u001b[0m\u001b[0;34m\u001b[0m\u001b[0m\n\u001b[0;32m--> 281\u001b[0;31m             \u001b[0;32mreturn\u001b[0m \u001b[0mself\u001b[0m\u001b[0;34m.\u001b[0m\u001b[0mformat_row\u001b[0m\u001b[0;34m(\u001b[0m\u001b[0mpa_table\u001b[0m\u001b[0;34m)\u001b[0m\u001b[0;34m\u001b[0m\u001b[0;34m\u001b[0m\u001b[0m\n\u001b[0m\u001b[1;32m    282\u001b[0m         \u001b[0;32melif\u001b[0m \u001b[0mquery_type\u001b[0m \u001b[0;34m==\u001b[0m \u001b[0;34m\"column\"\u001b[0m\u001b[0;34m:\u001b[0m\u001b[0;34m\u001b[0m\u001b[0;34m\u001b[0m\u001b[0m\n\u001b[1;32m    283\u001b[0m             \u001b[0;32mreturn\u001b[0m \u001b[0mself\u001b[0m\u001b[0;34m.\u001b[0m\u001b[0mformat_column\u001b[0m\u001b[0;34m(\u001b[0m\u001b[0mpa_table\u001b[0m\u001b[0;34m)\u001b[0m\u001b[0;34m\u001b[0m\u001b[0;34m\u001b[0m\u001b[0m\n",
      "\u001b[0;32m~/.local/lib/python3.8/site-packages/datasets/formatting/formatting.py\u001b[0m in \u001b[0;36mformat_row\u001b[0;34m(self, pa_table)\u001b[0m\n\u001b[1;32m    308\u001b[0m \u001b[0;32mclass\u001b[0m \u001b[0mPythonFormatter\u001b[0m\u001b[0;34m(\u001b[0m\u001b[0mFormatter\u001b[0m\u001b[0;34m[\u001b[0m\u001b[0mdict\u001b[0m\u001b[0;34m,\u001b[0m \u001b[0mlist\u001b[0m\u001b[0;34m,\u001b[0m \u001b[0mdict\u001b[0m\u001b[0;34m]\u001b[0m\u001b[0;34m)\u001b[0m\u001b[0;34m:\u001b[0m\u001b[0;34m\u001b[0m\u001b[0;34m\u001b[0m\u001b[0m\n\u001b[1;32m    309\u001b[0m     \u001b[0;32mdef\u001b[0m \u001b[0mformat_row\u001b[0m\u001b[0;34m(\u001b[0m\u001b[0mself\u001b[0m\u001b[0;34m,\u001b[0m \u001b[0mpa_table\u001b[0m\u001b[0;34m:\u001b[0m \u001b[0mpa\u001b[0m\u001b[0;34m.\u001b[0m\u001b[0mTable\u001b[0m\u001b[0;34m)\u001b[0m \u001b[0;34m->\u001b[0m \u001b[0mdict\u001b[0m\u001b[0;34m:\u001b[0m\u001b[0;34m\u001b[0m\u001b[0;34m\u001b[0m\u001b[0m\n\u001b[0;32m--> 310\u001b[0;31m         \u001b[0mrow\u001b[0m \u001b[0;34m=\u001b[0m \u001b[0mself\u001b[0m\u001b[0;34m.\u001b[0m\u001b[0mpython_arrow_extractor\u001b[0m\u001b[0;34m(\u001b[0m\u001b[0;34m)\u001b[0m\u001b[0;34m.\u001b[0m\u001b[0mextract_row\u001b[0m\u001b[0;34m(\u001b[0m\u001b[0mpa_table\u001b[0m\u001b[0;34m)\u001b[0m\u001b[0;34m\u001b[0m\u001b[0;34m\u001b[0m\u001b[0m\n\u001b[0m\u001b[1;32m    311\u001b[0m         \u001b[0;32mif\u001b[0m \u001b[0mself\u001b[0m\u001b[0;34m.\u001b[0m\u001b[0mdecoded\u001b[0m\u001b[0;34m:\u001b[0m\u001b[0;34m\u001b[0m\u001b[0;34m\u001b[0m\u001b[0m\n\u001b[1;32m    312\u001b[0m             \u001b[0mrow\u001b[0m \u001b[0;34m=\u001b[0m \u001b[0mself\u001b[0m\u001b[0;34m.\u001b[0m\u001b[0mpython_features_decoder\u001b[0m\u001b[0;34m.\u001b[0m\u001b[0mdecode_row\u001b[0m\u001b[0;34m(\u001b[0m\u001b[0mrow\u001b[0m\u001b[0;34m)\u001b[0m\u001b[0;34m\u001b[0m\u001b[0;34m\u001b[0m\u001b[0m\n",
      "\u001b[0;32m~/.local/lib/python3.8/site-packages/datasets/formatting/formatting.py\u001b[0m in \u001b[0;36mextract_row\u001b[0;34m(self, pa_table)\u001b[0m\n\u001b[1;32m    138\u001b[0m \u001b[0;32mclass\u001b[0m \u001b[0mPythonArrowExtractor\u001b[0m\u001b[0;34m(\u001b[0m\u001b[0mBaseArrowExtractor\u001b[0m\u001b[0;34m[\u001b[0m\u001b[0mdict\u001b[0m\u001b[0;34m,\u001b[0m \u001b[0mlist\u001b[0m\u001b[0;34m,\u001b[0m \u001b[0mdict\u001b[0m\u001b[0;34m]\u001b[0m\u001b[0;34m)\u001b[0m\u001b[0;34m:\u001b[0m\u001b[0;34m\u001b[0m\u001b[0;34m\u001b[0m\u001b[0m\n\u001b[1;32m    139\u001b[0m     \u001b[0;32mdef\u001b[0m \u001b[0mextract_row\u001b[0m\u001b[0;34m(\u001b[0m\u001b[0mself\u001b[0m\u001b[0;34m,\u001b[0m \u001b[0mpa_table\u001b[0m\u001b[0;34m:\u001b[0m \u001b[0mpa\u001b[0m\u001b[0;34m.\u001b[0m\u001b[0mTable\u001b[0m\u001b[0;34m)\u001b[0m \u001b[0;34m->\u001b[0m \u001b[0mdict\u001b[0m\u001b[0;34m:\u001b[0m\u001b[0;34m\u001b[0m\u001b[0;34m\u001b[0m\u001b[0m\n\u001b[0;32m--> 140\u001b[0;31m         \u001b[0;32mreturn\u001b[0m \u001b[0m_unnest\u001b[0m\u001b[0;34m(\u001b[0m\u001b[0mpa_table\u001b[0m\u001b[0;34m.\u001b[0m\u001b[0mto_pydict\u001b[0m\u001b[0;34m(\u001b[0m\u001b[0;34m)\u001b[0m\u001b[0;34m)\u001b[0m\u001b[0;34m\u001b[0m\u001b[0;34m\u001b[0m\u001b[0m\n\u001b[0m\u001b[1;32m    141\u001b[0m \u001b[0;34m\u001b[0m\u001b[0m\n\u001b[1;32m    142\u001b[0m     \u001b[0;32mdef\u001b[0m \u001b[0mextract_column\u001b[0m\u001b[0;34m(\u001b[0m\u001b[0mself\u001b[0m\u001b[0;34m,\u001b[0m \u001b[0mpa_table\u001b[0m\u001b[0;34m:\u001b[0m \u001b[0mpa\u001b[0m\u001b[0;34m.\u001b[0m\u001b[0mTable\u001b[0m\u001b[0;34m)\u001b[0m \u001b[0;34m->\u001b[0m \u001b[0mlist\u001b[0m\u001b[0;34m:\u001b[0m\u001b[0;34m\u001b[0m\u001b[0;34m\u001b[0m\u001b[0m\n",
      "\u001b[0;31mKeyboardInterrupt\u001b[0m: "
     ]
    }
   ],
   "source": [
    "##filtering the dataset to keep only few documents with all tags o\n",
    "## preprocess the dataset\n",
    "\n",
    "processor = LayoutLMv2Processor.from_pretrained(\"microsoft/layoutlmv2-base-uncased\", revision=\"no_ocr\")\n",
    "## count of all tag o document we want to keep. since we want balanced dataset, hard coding it to be the one with s word tagged would be nice\n",
    "global count\n",
    "count = 319\n",
    "def filter_dataset(examples):\n",
    "    global count\n",
    "    \n",
    "    if examples is None:\n",
    "        print(examples)\n",
    "        pass\n",
    "    \n",
    "    if all(v == 0 for v in examples[\"labels\"]):\n",
    "        pass\n",
    "       \n",
    "    elif any(v != 0 for v in examples[\"labels\"]):\n",
    "            return examples\n",
    "       \n",
    "new = list(map(filter_dataset, train_dataset))\n",
    "# test_dataset = test_dataset.map(preprocess_data, batched=True, remove_columns=test_dataset.column_names,\n",
    "#                                       features=features)"
   ]
  },
  {
   "cell_type": "code",
   "execution_count": null,
   "id": "7a08e314",
   "metadata": {},
   "outputs": [],
   "source": [
    "new = [x for x in new if x is not None]\n",
    "from datasets import Dataset\n",
    "df = pd.DataFrame(new)\n",
    "train_dataset = Dataset.from_pandas(df)"
   ]
  },
  {
   "cell_type": "code",
   "execution_count": 10,
   "id": "57310475",
   "metadata": {},
   "outputs": [],
   "source": [
    "import spacy\n",
    "nlp = spacy.load(\"es_core_news_sm\")\n",
    "\n",
    "df = pd.DataFrame([], columns = [\"sentence_id\", \"text\", \"lemma\", \"pos\", \"tag\", \"dependency\", \"shape\", \"is_alpha\", \"is_stop\", \"label\"])\n",
    "for i,each_tokens in enumerate(train_dataset[\"words\"]):\n",
    "    doc = nlp(\" \".join(each_tokens))\n",
    "    \n",
    "    for j, (token, label) in enumerate(zip(doc,train_dataset[i])) :\n",
    "        result = dict()\n",
    "        result[\"sentence_id\"] = i\n",
    "        result[\"text\"] =  token.text\n",
    "        result[\"lemma\"]= token.lemma_\n",
    "        result[\"pos\"]= token.pos_\n",
    "        result[\"tag\"]=token.tag_\n",
    "        result[\"dependency\"]=token.dep_\n",
    "        result[\"shape\"]= token.shape_\n",
    "        result[\"is_alpha\"]= token.is_alpha\n",
    "        result[\"is_stop\"] = token.is_stop\n",
    "        result[\"label\"] = id2label[train_dataset[\"labels\"][i][j]]\n",
    "        \n",
    "        df = df.append(result,ignore_index=True)"
   ]
  },
  {
   "cell_type": "code",
   "execution_count": 11,
   "id": "5c10f46f",
   "metadata": {},
   "outputs": [
    {
     "data": {
      "text/plain": [
       "PROPN    816\n",
       "PUNCT    375\n",
       "NOUN     272\n",
       "ADP      246\n",
       "NUM      118\n",
       "DET      108\n",
       "ADJ       79\n",
       "VERB      67\n",
       "CCONJ     35\n",
       "PRON      25\n",
       "SCONJ     18\n",
       "ADV       17\n",
       "AUX       13\n",
       "SYM        9\n",
       "Name: pos, dtype: int64"
      ]
     },
     "execution_count": 11,
     "metadata": {},
     "output_type": "execute_result"
    }
   ],
   "source": [
    "df[df[\"label\"] ==\"O\"][\"pos\"].value_counts()"
   ]
  },
  {
   "cell_type": "code",
   "execution_count": 12,
   "id": "c5a81ca2",
   "metadata": {},
   "outputs": [
    {
     "data": {
      "text/plain": [
       "PROPN    101\n",
       "NOUN      96\n",
       "ADP       58\n",
       "PUNCT     44\n",
       "DET       36\n",
       "ADJ       28\n",
       "CCONJ     22\n",
       "VERB      19\n",
       "NUM       10\n",
       "PRON       7\n",
       "ADV        4\n",
       "AUX        1\n",
       "Name: pos, dtype: int64"
      ]
     },
     "execution_count": 12,
     "metadata": {},
     "output_type": "execute_result"
    }
   ],
   "source": [
    "df[df[\"label\"] !=\"O\"][\"pos\"].value_counts()"
   ]
  },
  {
   "cell_type": "code",
   "execution_count": 14,
   "id": "ab24e469",
   "metadata": {},
   "outputs": [
    {
     "data": {
      "text/plain": [
       "punct        382\n",
       "flat         362\n",
       "case         226\n",
       "ROOT         222\n",
       "appos        207\n",
       "det          107\n",
       "nsubj        104\n",
       "nmod         103\n",
       "amod          76\n",
       "conj          73\n",
       "nummod        65\n",
       "obj           57\n",
       "cc            32\n",
       "mark          31\n",
       "obl           27\n",
       "compound      25\n",
       "advmod        22\n",
       "fixed         20\n",
       "dep           12\n",
       "advcl         10\n",
       "acl            9\n",
       "cop            6\n",
       "iobj           4\n",
       "ccomp          4\n",
       "aux            4\n",
       "csubj          3\n",
       "expl:pass      2\n",
       "xcomp          2\n",
       "expl:pv        1\n",
       "Name: dependency, dtype: int64"
      ]
     },
     "execution_count": 14,
     "metadata": {},
     "output_type": "execute_result"
    }
   ],
   "source": [
    "df[df[\"label\"] ==\"O\"][\"dependency\"].value_counts()"
   ]
  },
  {
   "cell_type": "code",
   "execution_count": 16,
   "id": "d882db02",
   "metadata": {},
   "outputs": [
    {
     "data": {
      "text/plain": [
       "case         57\n",
       "ROOT         54\n",
       "flat         49\n",
       "punct        44\n",
       "nmod         37\n",
       "det          34\n",
       "appos        28\n",
       "conj         27\n",
       "amod         22\n",
       "cc           22\n",
       "nsubj        13\n",
       "obj          11\n",
       "nummod        7\n",
       "obl           6\n",
       "advmod        4\n",
       "acl           2\n",
       "advcl         2\n",
       "expl:pass     2\n",
       "expl:pv       1\n",
       "cop           1\n",
       "csubj         1\n",
       "mark          1\n",
       "xcomp         1\n",
       "Name: dependency, dtype: int64"
      ]
     },
     "execution_count": 16,
     "metadata": {},
     "output_type": "execute_result"
    }
   ],
   "source": [
    "df[df[\"label\"] !=\"O\"][\"dependency\"].value_counts()"
   ]
  },
  {
   "cell_type": "code",
   "execution_count": 25,
   "id": "34364e88",
   "metadata": {},
   "outputs": [],
   "source": [
    "\n",
    "\n",
    "\n",
    "#datasets = load_dataset(\"darentang/sroie\",cache_dir=None)\n",
    "#datasets = load_dataset(\"nielsr/funsd\",cache_dir=None)\n",
    "#datasets = load_dataset(\"nielsr/funsd-layoutlmv3\")\n",
    "train_dataset = Dataset.from_file(\"/home/user/.cache/huggingface/datasets/agcs_marine_ner_dataset_butler/infoex-staging-agcs-marine/ner-v009/0.0.0/agcs_marine_ner_dataset_butler-train.arrow\")\n",
    "test_dataset = Dataset.from_file(\"/home/user/.cache/huggingface/datasets/agcs_marine_ner_dataset_butler/infoex-staging-agcs-marine/ner-v009/0.0.0/agcs_marine_ner_dataset_butler-test.arrow\")\n",
    "##creating a dataloader\n",
    "# train_dataloader = DataLoader(train_dataset, batch_size=4, shuffle=True)\n",
    "# test_dataloader = DataLoader(test_dataset, batch_size=2)\n"
   ]
  },
  {
   "cell_type": "code",
   "execution_count": 27,
   "id": "8ff949b4",
   "metadata": {},
   "outputs": [
    {
     "name": "stdout",
     "output_type": "stream",
     "text": [
      "230823\n",
      "{0, 2, 3, 4, 9, 13, 17, 21, 25, 26, 27, 28, 29, 30, 32, 33, 34, 36, 37, 38, 39, 40, 41, 45, 49, 53, 57, 58, 60, 61, 62, 64, 65, 66, 68, 69, 70, 71, 72, 73, 74, 76, 77, 78, 80, 81, 82, 83, 84, 85, 86, 87, 88, 89, 93, 94, 96, 97, 98, 99, 100, 101, 102, 104, 105, 106, 107, 108, 109}\n"
     ]
    },
    {
     "data": {
      "text/plain": [
       "{'O': 0,\n",
       " '-': 1,\n",
       " 'B-5': 2,\n",
       " 'I-5': 3,\n",
       " 'E-5': 4,\n",
       " 'S-5': 5,\n",
       " 'B-6': 6,\n",
       " 'I-6': 7,\n",
       " 'E-6': 8,\n",
       " 'S-6': 9,\n",
       " 'B-7': 10,\n",
       " 'I-7': 11,\n",
       " 'E-7': 12,\n",
       " 'S-7': 13,\n",
       " 'B-8': 14,\n",
       " 'I-8': 15,\n",
       " 'E-8': 16,\n",
       " 'S-8': 17,\n",
       " 'B-9': 18,\n",
       " 'I-9': 19,\n",
       " 'E-9': 20,\n",
       " 'S-9': 21,\n",
       " 'B-10': 22,\n",
       " 'I-10': 23,\n",
       " 'E-10': 24,\n",
       " 'S-10': 25,\n",
       " 'B-11': 26,\n",
       " 'I-11': 27,\n",
       " 'E-11': 28,\n",
       " 'S-11': 29,\n",
       " 'B-12': 30,\n",
       " 'I-12': 31,\n",
       " 'E-12': 32,\n",
       " 'S-12': 33,\n",
       " 'B-13': 34,\n",
       " 'I-13': 35,\n",
       " 'E-13': 36,\n",
       " 'S-13': 37,\n",
       " 'B-14': 38,\n",
       " 'I-14': 39,\n",
       " 'E-14': 40,\n",
       " 'S-14': 41,\n",
       " 'B-15': 42,\n",
       " 'I-15': 43,\n",
       " 'E-15': 44,\n",
       " 'S-15': 45,\n",
       " 'B-16': 46,\n",
       " 'I-16': 47,\n",
       " 'E-16': 48,\n",
       " 'S-16': 49,\n",
       " 'B-17': 50,\n",
       " 'I-17': 51,\n",
       " 'E-17': 52,\n",
       " 'S-17': 53,\n",
       " 'B-18': 54,\n",
       " 'I-18': 55,\n",
       " 'E-18': 56,\n",
       " 'S-18': 57,\n",
       " 'B-19': 58,\n",
       " 'I-19': 59,\n",
       " 'E-19': 60,\n",
       " 'S-19': 61,\n",
       " 'B-20': 62,\n",
       " 'I-20': 63,\n",
       " 'E-20': 64,\n",
       " 'S-20': 65,\n",
       " 'B-21': 66,\n",
       " 'I-21': 67,\n",
       " 'E-21': 68,\n",
       " 'S-21': 69,\n",
       " 'B-22': 70,\n",
       " 'I-22': 71,\n",
       " 'E-22': 72,\n",
       " 'S-22': 73,\n",
       " 'B-23': 74,\n",
       " 'I-23': 75,\n",
       " 'E-23': 76,\n",
       " 'S-23': 77,\n",
       " 'B-24': 78,\n",
       " 'I-24': 79,\n",
       " 'E-24': 80,\n",
       " 'S-24': 81,\n",
       " 'B-25': 82,\n",
       " 'I-25': 83,\n",
       " 'E-25': 84,\n",
       " 'S-25': 85,\n",
       " 'B-27': 86,\n",
       " 'I-27': 87,\n",
       " 'E-27': 88,\n",
       " 'S-27': 89,\n",
       " 'B-28': 90,\n",
       " 'I-28': 91,\n",
       " 'E-28': 92,\n",
       " 'S-28': 93,\n",
       " 'B-29': 94,\n",
       " 'I-29': 95,\n",
       " 'E-29': 96,\n",
       " 'S-29': 97,\n",
       " 'B-30': 98,\n",
       " 'I-30': 99,\n",
       " 'E-30': 100,\n",
       " 'S-30': 101,\n",
       " 'B-31': 102,\n",
       " 'I-31': 103,\n",
       " 'E-31': 104,\n",
       " 'S-31': 105,\n",
       " 'B-43': 106,\n",
       " 'I-43': 107,\n",
       " 'E-43': 108,\n",
       " 'S-43': 109}"
      ]
     },
     "execution_count": 27,
     "metadata": {},
     "output_type": "execute_result"
    }
   ],
   "source": [
    "labelss = [xx for x in train_dataset[\"labels\"] for xx in x]\n",
    "print(len(labelss))\n",
    "print(set(labelss))\n",
    "labels = train_dataset.features[\"labels\"].feature.names\n",
    "id2label = {v: k for v, k in enumerate(labels)}\n",
    "label2id = {k: v for v, k in enumerate(labels)}\n",
    "label2id\n"
   ]
  },
  {
   "cell_type": "code",
   "execution_count": 28,
   "id": "f9953a47",
   "metadata": {
    "scrolled": true
   },
   "outputs": [
    {
     "name": "stdout",
     "output_type": "stream",
     "text": [
      "69\n"
     ]
    },
    {
     "data": {
      "image/png": "[encoded data removed]",
      "text/plain": [
       "<Figure size 576x288 with 1 Axes>"
      ]
     },
     "metadata": {
      "needs_background": "light"
     },
     "output_type": "display_data"
    },
    {
     "data": {
      "text/plain": [
       "<Figure size 432x288 with 0 Axes>"
      ]
     },
     "metadata": {},
     "output_type": "display_data"
    }
   ],
   "source": [
    "from collections import Counter\n",
    "X = Counter(x for xs in train_dataset[\"labels\"] for x in xs)\n",
    "import matplotlib.pyplot as plt\n",
    "import seaborn as sns\n",
    "plt.figure(figsize=(8,4), tight_layout=True)\n",
    "id2label = {k:\"tag_+\" +str(k) if v!=\"O\"  else \"O\" for k,v in id2label.items() }\n",
    "dictionary_ = {id2label[i]:v for i,v in enumerate(X)}\n",
    "colors = sns.color_palette('pastel')\n",
    "length = len(dictionary_)\n",
    "print(length)\n",
    "plt.bar(dictionary_.keys(), dictionary_.values(), color=colors[:length])\n",
    "plt.xlabel('Tags')\n",
    "plt.ylabel('Distribution')\n",
    "plt.title('Tag distribution')\n",
    "plt.show()\n",
    "plt.savefig(\"english_dataset.pdf\", dpi=300)"
   ]
  },
  {
   "cell_type": "code",
   "execution_count": 8,
   "id": "3ad19b5a",
   "metadata": {},
   "outputs": [
    {
     "name": "stdout",
     "output_type": "stream",
     "text": [
      "average sentene length is 149.11046511627907\n"
     ]
    }
   ],
   "source": [
    "\n",
    "def average_sentence_length(dataset):\n",
    "    \n",
    "    total = len(dataset[\"words\"])\n",
    "    length  = [len(sentence) for sentence in dataset[\"words\"] ]\n",
    "    return sum(length)/total\n",
    "    \n",
    "print(\"average sentene length is\", str(average_sentence_length(train_dataset)))\n",
    "\n"
   ]
  },
  {
   "cell_type": "code",
   "execution_count": 21,
   "id": "bd1ad7d3",
   "metadata": {},
   "outputs": [
    {
     "name": "stdout",
     "output_type": "stream",
     "text": [
      "total training documents 1548\n",
      "number of document with no tags 0\n",
      "number of document with atleast 1 tags 1548\n",
      "total test documents 406\n",
      "number of document with no tags 0\n",
      "number of document with atleast 1 tags 406\n"
     ]
    }
   ],
   "source": [
    "print(\"total training documents\", len(train_dataset))\n",
    "count = 0\n",
    "count_t = 0\n",
    "indexes_all_o = []\n",
    "for i,x in enumerate(train_dataset[\"labels\"]):\n",
    "    if all(v == 0 for v in x):\n",
    "        count += 1\n",
    "        indexes_all_o.append(i)\n",
    "    if any(v != 0 for v in x):\n",
    "        count_t += 1\n",
    "indexes_to_drop = indexes_all_o[:count_t]  \n",
    "\n",
    "print(\"number of document with no tags\", count)\n",
    "print(\"number of document with atleast 1 tags\", count_t)\n",
    "\n",
    "\n",
    "print(\"total test documents\", len(test_dataset))\n",
    "count = 0\n",
    "count_t = 0\n",
    "for x in test_dataset[\"labels\"]:\n",
    "    if all(v == 0 for v in x):\n",
    "        count += 1\n",
    "    if any(v != 0 for v in x):\n",
    "        count_t += 1\n",
    "        \n",
    "print(\"number of document with no tags\", count)\n",
    "print(\"number of document with atleast 1 tags\", count_t)"
   ]
  },
  {
   "cell_type": "code",
   "execution_count": 8,
   "id": "64c692fd",
   "metadata": {},
   "outputs": [
    {
     "ename": "NameError",
     "evalue": "name 'tes_dataset' is not defined",
     "output_type": "error",
     "traceback": [
      "\u001b[0;31m---------------------------------------------------------------------------\u001b[0m",
      "\u001b[0;31mNameError\u001b[0m                                 Traceback (most recent call last)",
      "\u001b[0;32m/tmp/ipykernel_9384/4007174783.py\u001b[0m in \u001b[0;36m<module>\u001b[0;34m\u001b[0m\n\u001b[0;32m----> 1\u001b[0;31m \u001b[0mtes_dataset\u001b[0m\u001b[0;34m\u001b[0m\u001b[0;34m\u001b[0m\u001b[0m\n\u001b[0m",
      "\u001b[0;31mNameError\u001b[0m: name 'tes_dataset' is not defined"
     ]
    }
   ],
   "source": [
    "tes_dataset"
   ]
  },
  {
   "cell_type": "code",
   "execution_count": 24,
   "id": "5ff2c5e3",
   "metadata": {},
   "outputs": [
    {
     "ename": "KeyError",
     "evalue": "101",
     "output_type": "error",
     "traceback": [
      "\u001b[0;31m---------------------------------------------------------------------------\u001b[0m",
      "\u001b[0;31mKeyError\u001b[0m                                  Traceback (most recent call last)",
      "\u001b[0;32m/tmp/ipykernel_9384/2832354282.py\u001b[0m in \u001b[0;36m<module>\u001b[0;34m\u001b[0m\n\u001b[1;32m     19\u001b[0m         \u001b[0mresult\u001b[0m\u001b[0;34m[\u001b[0m\u001b[0;34m\"is_alpha\"\u001b[0m\u001b[0;34m]\u001b[0m\u001b[0;34m=\u001b[0m \u001b[0mtoken\u001b[0m\u001b[0;34m.\u001b[0m\u001b[0mis_alpha\u001b[0m\u001b[0;34m\u001b[0m\u001b[0;34m\u001b[0m\u001b[0m\n\u001b[1;32m     20\u001b[0m         \u001b[0mresult\u001b[0m\u001b[0;34m[\u001b[0m\u001b[0;34m\"is_stop\"\u001b[0m\u001b[0;34m]\u001b[0m \u001b[0;34m=\u001b[0m \u001b[0mtoken\u001b[0m\u001b[0;34m.\u001b[0m\u001b[0mis_stop\u001b[0m\u001b[0;34m\u001b[0m\u001b[0;34m\u001b[0m\u001b[0m\n\u001b[0;32m---> 21\u001b[0;31m         \u001b[0mresult\u001b[0m\u001b[0;34m[\u001b[0m\u001b[0;34m\"label\"\u001b[0m\u001b[0;34m]\u001b[0m \u001b[0;34m=\u001b[0m \u001b[0mid2label\u001b[0m\u001b[0;34m[\u001b[0m\u001b[0mtrain_dataset\u001b[0m\u001b[0;34m[\u001b[0m\u001b[0;34m\"labels\"\u001b[0m\u001b[0;34m]\u001b[0m\u001b[0;34m[\u001b[0m\u001b[0mi\u001b[0m\u001b[0;34m]\u001b[0m\u001b[0;34m[\u001b[0m\u001b[0mj\u001b[0m\u001b[0;34m]\u001b[0m\u001b[0;34m]\u001b[0m\u001b[0;34m\u001b[0m\u001b[0;34m\u001b[0m\u001b[0m\n\u001b[0m\u001b[1;32m     22\u001b[0m \u001b[0;34m\u001b[0m\u001b[0m\n\u001b[1;32m     23\u001b[0m         \u001b[0mdf\u001b[0m \u001b[0;34m=\u001b[0m \u001b[0mdf\u001b[0m\u001b[0;34m.\u001b[0m\u001b[0mappend\u001b[0m\u001b[0;34m(\u001b[0m\u001b[0mresult\u001b[0m\u001b[0;34m,\u001b[0m\u001b[0mignore_index\u001b[0m\u001b[0;34m=\u001b[0m\u001b[0;32mTrue\u001b[0m\u001b[0;34m)\u001b[0m\u001b[0;34m\u001b[0m\u001b[0;34m\u001b[0m\u001b[0m\n",
      "\u001b[0;31mKeyError\u001b[0m: 101"
     ]
    }
   ],
   "source": [
    "import spacy\n",
    "nlp = spacy.load(\"en_core_web_sm\")\n",
    "\n",
    "df = pd.DataFrame([], columns = [\"sentence_id\", \"text\", \"lemma\", \"pos\", \"tag\", \"dependency\", \"shape\", \"is_alpha\", \"is_stop\", \"label\"])\n",
    "for i,each_tokens in enumerate(train_dataset[\"words\"]):\n",
    "    \n",
    "    doc = nlp(\" \".join(each_tokens))\n",
    "    \n",
    "    for j, (token, label) in enumerate(zip(doc,train_dataset[i])):\n",
    "        \n",
    "        result = dict()\n",
    "        result[\"sentence_id\"] = i\n",
    "        result[\"text\"] =  token.text\n",
    "        result[\"lemma\"]= token.lemma_\n",
    "        result[\"pos\"]= token.pos_\n",
    "        result[\"tag\"]=token.tag_\n",
    "        result[\"dependency\"]=token.dep_\n",
    "        result[\"shape\"]= token.shape_\n",
    "        result[\"is_alpha\"]= token.is_alpha\n",
    "        result[\"is_stop\"] = token.is_stop\n",
    "        result[\"label\"] = id2label[train_dataset[\"labels\"][i][j]]\n",
    "        \n",
    "        df = df.append(result,ignore_index=True)"
   ]
  },
  {
   "cell_type": "code",
   "execution_count": null,
   "id": "f9326998",
   "metadata": {},
   "outputs": [],
   "source": [
    "train_dataset[\"words\"][0:10]"
   ]
  },
  {
   "cell_type": "code",
   "execution_count": 5,
   "id": "c117af07",
   "metadata": {},
   "outputs": [],
   "source": [
    "\n",
    "\n",
    "\n",
    "#datasets = load_dataset(\"darentang/sroie\",cache_dir=None)\n",
    "#datasets = load_dataset(\"nielsr/funsd\",cache_dir=None)\n",
    "#datasets = load_dataset(\"nielsr/funsd-layoutlmv3\")\n",
    "train_dataset = Dataset.from_file(\"/home/user/.cache/huggingface/datasets/agi_ner_dataset_butler/infoex-staging-agi/ner-v888/0.0.0/agi_ner_dataset_butler-train.arrow\")\n",
    "test_dataset = Dataset.from_file(\"/home/user/.cache/huggingface/datasets/agi_ner_dataset_butler/infoex-staging-agi/ner-v888/0.0.0/agi_ner_dataset_butler-test.arrow\")\n",
    "##creating a dataloader\n",
    "# train_dataloader = DataLoader(train_dataset, batch_size=4, shuffle=True)\n",
    "# test_dataloader = DataLoader(test_dataset, batch_size=2)\n"
   ]
  },
  {
   "cell_type": "code",
   "execution_count": 29,
   "id": "8c18210f",
   "metadata": {},
   "outputs": [
    {
     "name": "stdout",
     "output_type": "stream",
     "text": [
      "230823\n",
      "{0, 2, 3, 4, 9, 13, 17, 21, 25, 26, 27, 28, 29, 30, 32, 33, 34, 36, 37, 38, 39, 40, 41, 45, 49, 53, 57, 58, 60, 61, 62, 64, 65, 66, 68, 69, 70, 71, 72, 73, 74, 76, 77, 78, 80, 81, 82, 83, 84, 85, 86, 87, 88, 89, 93, 94, 96, 97, 98, 99, 100, 101, 102, 104, 105, 106, 107, 108, 109}\n"
     ]
    },
    {
     "data": {
      "text/plain": [
       "{'O': 0,\n",
       " '-': 1,\n",
       " 'B-5': 2,\n",
       " 'I-5': 3,\n",
       " 'E-5': 4,\n",
       " 'S-5': 5,\n",
       " 'B-6': 6,\n",
       " 'I-6': 7,\n",
       " 'E-6': 8,\n",
       " 'S-6': 9,\n",
       " 'B-7': 10,\n",
       " 'I-7': 11,\n",
       " 'E-7': 12,\n",
       " 'S-7': 13,\n",
       " 'B-8': 14,\n",
       " 'I-8': 15,\n",
       " 'E-8': 16,\n",
       " 'S-8': 17,\n",
       " 'B-9': 18,\n",
       " 'I-9': 19,\n",
       " 'E-9': 20,\n",
       " 'S-9': 21,\n",
       " 'B-10': 22,\n",
       " 'I-10': 23,\n",
       " 'E-10': 24,\n",
       " 'S-10': 25,\n",
       " 'B-11': 26,\n",
       " 'I-11': 27,\n",
       " 'E-11': 28,\n",
       " 'S-11': 29,\n",
       " 'B-12': 30,\n",
       " 'I-12': 31,\n",
       " 'E-12': 32,\n",
       " 'S-12': 33,\n",
       " 'B-13': 34,\n",
       " 'I-13': 35,\n",
       " 'E-13': 36,\n",
       " 'S-13': 37,\n",
       " 'B-14': 38,\n",
       " 'I-14': 39,\n",
       " 'E-14': 40,\n",
       " 'S-14': 41,\n",
       " 'B-15': 42,\n",
       " 'I-15': 43,\n",
       " 'E-15': 44,\n",
       " 'S-15': 45,\n",
       " 'B-16': 46,\n",
       " 'I-16': 47,\n",
       " 'E-16': 48,\n",
       " 'S-16': 49,\n",
       " 'B-17': 50,\n",
       " 'I-17': 51,\n",
       " 'E-17': 52,\n",
       " 'S-17': 53,\n",
       " 'B-18': 54,\n",
       " 'I-18': 55,\n",
       " 'E-18': 56,\n",
       " 'S-18': 57,\n",
       " 'B-19': 58,\n",
       " 'I-19': 59,\n",
       " 'E-19': 60,\n",
       " 'S-19': 61,\n",
       " 'B-20': 62,\n",
       " 'I-20': 63,\n",
       " 'E-20': 64,\n",
       " 'S-20': 65,\n",
       " 'B-21': 66,\n",
       " 'I-21': 67,\n",
       " 'E-21': 68,\n",
       " 'S-21': 69,\n",
       " 'B-22': 70,\n",
       " 'I-22': 71,\n",
       " 'E-22': 72,\n",
       " 'S-22': 73,\n",
       " 'B-23': 74,\n",
       " 'I-23': 75,\n",
       " 'E-23': 76,\n",
       " 'S-23': 77,\n",
       " 'B-24': 78,\n",
       " 'I-24': 79,\n",
       " 'E-24': 80,\n",
       " 'S-24': 81,\n",
       " 'B-25': 82,\n",
       " 'I-25': 83,\n",
       " 'E-25': 84,\n",
       " 'S-25': 85,\n",
       " 'B-27': 86,\n",
       " 'I-27': 87,\n",
       " 'E-27': 88,\n",
       " 'S-27': 89,\n",
       " 'B-28': 90,\n",
       " 'I-28': 91,\n",
       " 'E-28': 92,\n",
       " 'S-28': 93,\n",
       " 'B-29': 94,\n",
       " 'I-29': 95,\n",
       " 'E-29': 96,\n",
       " 'S-29': 97,\n",
       " 'B-30': 98,\n",
       " 'I-30': 99,\n",
       " 'E-30': 100,\n",
       " 'S-30': 101,\n",
       " 'B-31': 102,\n",
       " 'I-31': 103,\n",
       " 'E-31': 104,\n",
       " 'S-31': 105,\n",
       " 'B-43': 106,\n",
       " 'I-43': 107,\n",
       " 'E-43': 108,\n",
       " 'S-43': 109}"
      ]
     },
     "execution_count": 29,
     "metadata": {},
     "output_type": "execute_result"
    }
   ],
   "source": [
    "labelss = [xx for x in train_dataset[\"labels\"] for xx in x]\n",
    "print(len(labelss))\n",
    "print(set(labelss))\n",
    "labels = train_dataset.features[\"labels\"].feature.names\n",
    "id2label = {v: k for v, k in enumerate(labels)}\n",
    "label2id = {k: v for v, k in enumerate(labels)}\n",
    "label2id\n"
   ]
  },
  {
   "cell_type": "code",
   "execution_count": 30,
   "id": "b367cb0a",
   "metadata": {},
   "outputs": [
    {
     "name": "stdout",
     "output_type": "stream",
     "text": [
      "69\n"
     ]
    },
    {
     "data": {
      "image/png": "[encoded data removed]",
      "text/plain": [
       "<Figure size 576x288 with 1 Axes>"
      ]
     },
     "metadata": {
      "needs_background": "light"
     },
     "output_type": "display_data"
    },
    {
     "data": {
      "text/plain": [
       "<Figure size 432x288 with 0 Axes>"
      ]
     },
     "metadata": {},
     "output_type": "display_data"
    }
   ],
   "source": [
    "from collections import Counter\n",
    "X = Counter(x for xs in train_dataset[\"labels\"] for x in xs)\n",
    "import matplotlib.pyplot as plt\n",
    "import seaborn as sns\n",
    "plt.figure(figsize=(8,4), tight_layout=True)\n",
    "id2label = {k:\"tag_+\" +str(k) if v!=\"O\"  else \"O\" for k,v in id2label.items() }\n",
    "dictionary_ = {id2label[i]:v for i,v in enumerate(X)}\n",
    "colors = sns.color_palette('pastel')\n",
    "length = len(dictionary_)\n",
    "print(length)\n",
    "plt.bar(dictionary_.keys(), dictionary_.values(), color=colors[:length])\n",
    "plt.xlabel('Tags')\n",
    "plt.ylabel('Distribution')\n",
    "plt.title('Tag distribution')\n",
    "plt.show()\n",
    "plt.savefig(\"english_dataset.pdf\", dpi=300)"
   ]
  },
  {
   "cell_type": "code",
   "execution_count": 6,
   "id": "b7cca10b",
   "metadata": {},
   "outputs": [
    {
     "name": "stdout",
     "output_type": "stream",
     "text": [
      "average sentene length is 136.8186274509804\n"
     ]
    }
   ],
   "source": [
    "\n",
    "def average_sentence_length(dataset):\n",
    "    \n",
    "    total = len(dataset[\"words\"])\n",
    "    length  = [len(sentence) for sentence in dataset[\"words\"] ]\n",
    "    return sum(length)/total\n",
    "    \n",
    "print(\"average sentene length is\", str(average_sentence_length(train_dataset)))\n",
    "\n"
   ]
  },
  {
   "cell_type": "code",
   "execution_count": null,
   "id": "0a7be0bd",
   "metadata": {},
   "outputs": [],
   "source": []
  },
  {
   "cell_type": "code",
   "execution_count": 26,
   "id": "1a5933ee",
   "metadata": {},
   "outputs": [
    {
     "name": "stdout",
     "output_type": "stream",
     "text": [
      "total training documents 1020\n",
      "number of document with no tags 339\n",
      "number of document with atleast 1 tags 681\n",
      "total test documents 203\n",
      "number of document with no tags 82\n",
      "number of document with atleast 1 tags 121\n"
     ]
    }
   ],
   "source": [
    "print(\"total training documents\", len(train_dataset))\n",
    "count = 0\n",
    "count_t = 0\n",
    "indexes_all_o = []\n",
    "for i,x in enumerate(train_dataset[\"labels\"]):\n",
    "    if all(v == 0 for v in x):\n",
    "        count += 1\n",
    "        indexes_all_o.append(i)\n",
    "    if any(v != 0 for v in x):\n",
    "        count_t += 1\n",
    "indexes_to_drop = indexes_all_o[:count_t]  \n",
    "\n",
    "print(\"number of document with no tags\", count)\n",
    "print(\"number of document with atleast 1 tags\", count_t)\n",
    "\n",
    "\n",
    "print(\"total test documents\", len(test_dataset))\n",
    "count = 0\n",
    "count_t = 0\n",
    "for x in test_dataset[\"labels\"]:\n",
    "    if all(v == 0 for v in x):\n",
    "        count += 1\n",
    "    if any(v != 0 for v in x):\n",
    "        count_t += 1\n",
    "        \n",
    "print(\"number of document with no tags\", count)\n",
    "print(\"number of document with atleast 1 tags\", count_t)"
   ]
  },
  {
   "cell_type": "code",
   "execution_count": 27,
   "id": "a158ae4c",
   "metadata": {},
   "outputs": [
    {
     "ename": "IndexError",
     "evalue": "list index out of range",
     "output_type": "error",
     "traceback": [
      "\u001b[0;31m---------------------------------------------------------------------------\u001b[0m",
      "\u001b[0;31mIndexError\u001b[0m                                Traceback (most recent call last)",
      "\u001b[0;32m/tmp/ipykernel_9384/2832354282.py\u001b[0m in \u001b[0;36m<module>\u001b[0;34m\u001b[0m\n\u001b[1;32m     19\u001b[0m         \u001b[0mresult\u001b[0m\u001b[0;34m[\u001b[0m\u001b[0;34m\"is_alpha\"\u001b[0m\u001b[0;34m]\u001b[0m\u001b[0;34m=\u001b[0m \u001b[0mtoken\u001b[0m\u001b[0;34m.\u001b[0m\u001b[0mis_alpha\u001b[0m\u001b[0;34m\u001b[0m\u001b[0;34m\u001b[0m\u001b[0m\n\u001b[1;32m     20\u001b[0m         \u001b[0mresult\u001b[0m\u001b[0;34m[\u001b[0m\u001b[0;34m\"is_stop\"\u001b[0m\u001b[0;34m]\u001b[0m \u001b[0;34m=\u001b[0m \u001b[0mtoken\u001b[0m\u001b[0;34m.\u001b[0m\u001b[0mis_stop\u001b[0m\u001b[0;34m\u001b[0m\u001b[0;34m\u001b[0m\u001b[0m\n\u001b[0;32m---> 21\u001b[0;31m         \u001b[0mresult\u001b[0m\u001b[0;34m[\u001b[0m\u001b[0;34m\"label\"\u001b[0m\u001b[0;34m]\u001b[0m \u001b[0;34m=\u001b[0m \u001b[0mid2label\u001b[0m\u001b[0;34m[\u001b[0m\u001b[0mtrain_dataset\u001b[0m\u001b[0;34m[\u001b[0m\u001b[0;34m\"labels\"\u001b[0m\u001b[0;34m]\u001b[0m\u001b[0;34m[\u001b[0m\u001b[0mi\u001b[0m\u001b[0;34m]\u001b[0m\u001b[0;34m[\u001b[0m\u001b[0mj\u001b[0m\u001b[0;34m]\u001b[0m\u001b[0;34m]\u001b[0m\u001b[0;34m\u001b[0m\u001b[0;34m\u001b[0m\u001b[0m\n\u001b[0m\u001b[1;32m     22\u001b[0m \u001b[0;34m\u001b[0m\u001b[0m\n\u001b[1;32m     23\u001b[0m         \u001b[0mdf\u001b[0m \u001b[0;34m=\u001b[0m \u001b[0mdf\u001b[0m\u001b[0;34m.\u001b[0m\u001b[0mappend\u001b[0m\u001b[0;34m(\u001b[0m\u001b[0mresult\u001b[0m\u001b[0;34m,\u001b[0m\u001b[0mignore_index\u001b[0m\u001b[0;34m=\u001b[0m\u001b[0;32mTrue\u001b[0m\u001b[0;34m)\u001b[0m\u001b[0;34m\u001b[0m\u001b[0;34m\u001b[0m\u001b[0m\n",
      "\u001b[0;31mIndexError\u001b[0m: list index out of range"
     ]
    }
   ],
   "source": [
    "import spacy\n",
    "nlp = spacy.load(\"en_core_web_sm\")\n",
    "\n",
    "df = pd.DataFrame([], columns = [\"sentence_id\", \"text\", \"lemma\", \"pos\", \"tag\", \"dependency\", \"shape\", \"is_alpha\", \"is_stop\", \"label\"])\n",
    "for i,each_tokens in enumerate(train_dataset[\"words\"]):\n",
    "    \n",
    "    doc = nlp(\" \".join(each_tokens))\n",
    "    \n",
    "    for j, (token, label) in enumerate(zip(doc,train_dataset[i])):\n",
    "        \n",
    "        result = dict()\n",
    "        result[\"sentence_id\"] = i\n",
    "        result[\"text\"] =  token.text\n",
    "        result[\"lemma\"]= token.lemma_\n",
    "        result[\"pos\"]= token.pos_\n",
    "        result[\"tag\"]=token.tag_\n",
    "        result[\"dependency\"]=token.dep_\n",
    "        result[\"shape\"]= token.shape_\n",
    "        result[\"is_alpha\"]= token.is_alpha\n",
    "        result[\"is_stop\"] = token.is_stop\n",
    "        result[\"label\"] = id2label[train_dataset[\"labels\"][i][j]]\n",
    "        \n",
    "        df = df.append(result,ignore_index=True)"
   ]
  },
  {
   "cell_type": "code",
   "execution_count": null,
   "id": "81d62c1d",
   "metadata": {},
   "outputs": [],
   "source": []
  }
 ],
 "metadata": {
  "kernelspec": {
   "display_name": "Python 3 (ipykernel)",
   "language": "python",
   "name": "python3"
  },
  "language_info": {
   "codemirror_mode": {
    "name": "ipython",
    "version": 3
   },
   "file_extension": ".py",
   "mimetype": "text/x-python",
   "name": "python",
   "nbconvert_exporter": "python",
   "pygments_lexer": "ipython3",
   "version": "3.8.10"
  }
 },
 "nbformat": 4,
 "nbformat_minor": 5
}
